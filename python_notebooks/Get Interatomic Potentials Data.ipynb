{
 "cells": [
  {
   "cell_type": "code",
   "execution_count": 2,
   "id": "97d1f9a0",
   "metadata": {},
   "outputs": [],
   "source": [
    "import pandas as pd"
   ]
  },
  {
   "cell_type": "code",
   "execution_count": 1,
   "id": "1907bd29",
   "metadata": {},
   "outputs": [
    {
     "data": {
      "text/plain": [
       "<firebase_admin.App at 0x108316cd0>"
      ]
     },
     "execution_count": 1,
     "metadata": {},
     "output_type": "execute_result"
    }
   ],
   "source": [
    "import firebase_admin\n",
    "from firebase_admin import credentials, firestore\n",
    "\n",
    "cred = credentials.Certificate(\"spaceship-programming-firebase-adminsdk-wtugk-247f046204.json\")\n",
    "firebase_admin.initialize_app(cred)\n"
   ]
  },
  {
   "cell_type": "code",
   "execution_count": 3,
   "id": "22f8c827",
   "metadata": {},
   "outputs": [],
   "source": [
    "datab = firestore.client()\n",
    "\n",
    "logsref = datab.collection(u'interatomic-potentials')\n",
    "docs = logsref.stream()\n",
    "\n",
    "logs_list = list(map(lambda x: x.to_dict(), docs))\n",
    "df = pd.DataFrame(logs_list)\n",
    "df = df[df['uid'].notnull()]\n",
    "df['uid'] = df['uid'].astype(int)\n",
    "df['lppid'] = df['lppid'].astype(int)"
   ]
  },
  {
   "cell_type": "code",
   "execution_count": 36,
   "id": "b8788798",
   "metadata": {},
   "outputs": [],
   "source": [
    "df.to_csv(\"IAP_sketch_data.csv\", index=False)"
   ]
  },
  {
   "cell_type": "code",
   "execution_count": null,
   "id": "2f8afb33",
   "metadata": {},
   "outputs": [],
   "source": []
  }
 ],
 "metadata": {
  "kernelspec": {
   "display_name": "Python 3 (ipykernel)",
   "language": "python",
   "name": "python3"
  },
  "language_info": {
   "codemirror_mode": {
    "name": "ipython",
    "version": 3
   },
   "file_extension": ".py",
   "mimetype": "text/x-python",
   "name": "python",
   "nbconvert_exporter": "python",
   "pygments_lexer": "ipython3",
   "version": "3.11.3"
  }
 },
 "nbformat": 4,
 "nbformat_minor": 5
}
