{
 "cells": [
  {
   "cell_type": "markdown",
   "id": "f337e4c7",
   "metadata": {},
   "source": [
    "# Spaceship Programming Page 1 Analysis\n"
   ]
  },
  {
   "cell_type": "code",
   "execution_count": 1,
   "id": "3019f4a0",
   "metadata": {},
   "outputs": [],
   "source": [
    "import pandas as pd\n",
    "import numpy as np\n",
    "from matplotlib import pyplot as plt\n",
    "from matplotlib.pyplot import figure\n",
    "import json\n",
    "%matplotlib inline"
   ]
  },
  {
   "cell_type": "markdown",
   "id": "e99b1cd5",
   "metadata": {},
   "source": [
    "## Loading data"
   ]
  },
  {
   "cell_type": "markdown",
   "id": "3d234636",
   "metadata": {},
   "source": [
    "### Load and process data from Firebase"
   ]
  },
  {
   "cell_type": "code",
   "execution_count": 2,
   "id": "6ccf38e5",
   "metadata": {},
   "outputs": [
    {
     "data": {
      "text/plain": [
       "<firebase_admin.App at 0x137162b30>"
      ]
     },
     "execution_count": 2,
     "metadata": {},
     "output_type": "execute_result"
    }
   ],
   "source": [
    "import firebase_admin\n",
    "from firebase_admin import credentials, firestore\n",
    "\n",
    "cred = credentials.Certificate(\"spaceship-programming-firebase-adminsdk-wtugk-247f046204.json\")\n",
    "firebase_admin.initialize_app(cred)\n"
   ]
  },
  {
   "cell_type": "code",
   "execution_count": 3,
   "id": "d6817d11",
   "metadata": {},
   "outputs": [],
   "source": [
    "collection_name = 'spaceship-logs-2023'"
   ]
  },
  {
   "cell_type": "code",
   "execution_count": 8,
   "id": "5a6dd3db",
   "metadata": {},
   "outputs": [],
   "source": [
    "datab = firestore.client()\n",
    "\n",
    "logsref = datab.collection(collection_name)\n",
    "docs = logsref.stream()\n",
    "\n",
    "logs_list = list(map(lambda x: x.to_dict(), docs))\n",
    "df = pd.DataFrame(logs_list)\n",
    "\n",
    "# df = df.drop(\"netTangoBlocks\", axis=1)\n",
    "# df = df[df.lessonId == 2637]  # There were a few rows from testing with a different lesson Id\n",
    "df1 = df[df.pageNum == 1].reset_index()"
   ]
  },
  {
   "cell_type": "code",
   "execution_count": null,
   "id": "528873cc",
   "metadata": {},
   "outputs": [],
   "source": []
  },
  {
   "cell_type": "markdown",
   "id": "7e62c59c",
   "metadata": {},
   "source": [
    "#### Calculate trajectory, final velocity, final distance"
   ]
  },
  {
   "cell_type": "code",
   "execution_count": 12,
   "id": "20501865",
   "metadata": {},
   "outputs": [],
   "source": [
    "import json\n",
    "# 0: top engine - accelerate down\n",
    "# 1: right engine - accelerate left\n",
    "# 2: bottom engine - accelerate up\n",
    "# 3: left engine - accelerate right\n",
    "# (7, 8), (8, 8), (7, 7), (8, 7) - green patches\n",
    "# start location: (-9, -9)\n",
    "\n",
    "def calc_trajectory(engine_schedule, mass):\n",
    "    engine_schedule = json.loads(engine_schedule)\n",
    "    ticks = np.array([0])\n",
    "    initial_xcor = -9\n",
    "    initial_ycor = -9\n",
    "    axs = np.array([0])\n",
    "    ays = np.array([0])\n",
    "    \n",
    "    for row in engine_schedule:\n",
    "        duration = row[0][1] - row[0][0] \n",
    "        if row[1] == []: # it was a wait block            \n",
    "            ax = 0.0\n",
    "            ay = 0.0\n",
    "        else:\n",
    "            ax = (row[1][3] - row[1][1]) / mass\n",
    "            ay = (row[1][2] - row[1][0]) / mass\n",
    "        axs = np.append(axs, [ax] * duration)\n",
    "        ays = np.append(ays, [ay] * duration)\n",
    "    \n",
    "    vxs = axs.cumsum()\n",
    "    vys = ays.cumsum()\n",
    "    xcors = initial_xcor + vxs.cumsum()\n",
    "    ycors = initial_ycor + vys.cumsum()\n",
    "    \n",
    "    vxf = np.round(vxs[-1], 10)\n",
    "    vyf = np.round(vys[-1], 10)\n",
    "    if vxf != 0 or vyf != 0:\n",
    "        while abs(xcors[-1]) < 16 and abs(ycors[-1]) < 16:\n",
    "            axs = np.append(axs, 0)\n",
    "            ays = np.append(ays, 0)\n",
    "            vxs = np.append(vxs, vxf)\n",
    "            vys = np.append(vys, vyf)\n",
    "            xcors = np.append(xcors, xcors[-1] + vxf)\n",
    "            ycors = np.append(ycors, ycors[-1] + vyf)\n",
    "    \n",
    "    \n",
    "    tdf = pd.DataFrame()\n",
    "    tdf['tick'] = range(len(axs))    \n",
    "    tdf['ax'] = axs\n",
    "    tdf['ay'] = ays\n",
    "    tdf['a'] = np.sqrt(np.square(axs) + np.square(ays))    \n",
    "    tdf['color'] = tdf['a'].apply(lambda x: 'orange' if x > 0 else 'blue')\n",
    "    tdf['vx'] = vxs\n",
    "    tdf['vy'] = vys\n",
    "    tdf['xcor'] = xcors\n",
    "    tdf['ycor'] = ycors\n",
    "    return tdf                    \n",
    "\n",
    "\n",
    "def get_mass():\n",
    "#     return 30 if np.isnan(m) else m  # The first time we did this, there was default mass of 30 but students could change it\n",
    "    return 10\n",
    "\n",
    "def get_trajectory(row):\n",
    "    if row.name % 100 == 0:\n",
    "        print(row.name)\n",
    "    return calc_trajectory(row['engineSchedule'], get_mass()).to_dict()\n"
   ]
  },
  {
   "cell_type": "code",
   "execution_count": 13,
   "id": "d0a98ed3",
   "metadata": {},
   "outputs": [
    {
     "name": "stdout",
     "output_type": "stream",
     "text": [
      "0\n",
      "100\n",
      "200\n",
      "300\n",
      "400\n",
      "500\n",
      "600\n",
      "700\n",
      "800\n",
      "900\n"
     ]
    }
   ],
   "source": [
    "df1['trajectory']= df1.apply(get_trajectory, axis=1)"
   ]
  },
  {
   "cell_type": "code",
   "execution_count": null,
   "id": "3fc9a726",
   "metadata": {},
   "outputs": [],
   "source": []
  },
  {
   "cell_type": "code",
   "execution_count": 14,
   "id": "00b0587d",
   "metadata": {},
   "outputs": [],
   "source": [
    "# df1['final_speed'] = \n",
    "def final_speed(traj):\n",
    "    max_key = max(traj['vx'].keys())\n",
    "    return np.round(np.sqrt(traj['vx'][max_key] ** 2 + traj['vy'][max_key] ** 2), 10)\n",
    "\n",
    "\n",
    "df1['final_speed'] = df1['trajectory'].apply(final_speed)"
   ]
  },
  {
   "cell_type": "code",
   "execution_count": 15,
   "id": "7c8e7ad5",
   "metadata": {},
   "outputs": [],
   "source": [
    "def final_distance(traj):\n",
    "    xmin = 6.5\n",
    "    xmax = 8.5\n",
    "    xcenter = 7.5\n",
    "    ymin = 6.5\n",
    "    ymax = 8.5\n",
    "    ycenter = 7.5\n",
    "    max_key = max(traj['vx'].keys())\n",
    "    xcor = traj['xcor'][max_key]\n",
    "    ycor = traj['ycor'][max_key]\n",
    "    if (xmin <= xcor <= xmax) and (ymin <= ycor <= ymax):\n",
    "        return 0\n",
    "    else:\n",
    "        return np.sqrt((xcor - xcenter) ** 2 + (ycor - ycenter) ** 2 )\n",
    "\n",
    "df1['final_distance'] = df1['trajectory'].apply(final_distance)"
   ]
  },
  {
   "cell_type": "code",
   "execution_count": 16,
   "id": "2e330342",
   "metadata": {},
   "outputs": [],
   "source": [
    "def convert_trajectory_to_lists(traj):\n",
    "    traj_dict = {}\n",
    "    for key in traj.keys():\n",
    "        traj_dict[key] = list(traj[key].values())\n",
    "    return traj_dict\n",
    "    \n",
    "df1['trajectory'] = df1['trajectory'].apply(convert_trajectory_to_lists)\n"
   ]
  },
  {
   "cell_type": "code",
   "execution_count": 17,
   "id": "dbdfd24b",
   "metadata": {},
   "outputs": [],
   "source": [
    "df1.to_csv(f\"{collection_name}_page1_data_lsts.csv\")"
   ]
  },
  {
   "cell_type": "code",
   "execution_count": null,
   "id": "5dc20a7b",
   "metadata": {},
   "outputs": [],
   "source": [
    "df1[df1.userId==26807]"
   ]
  },
  {
   "cell_type": "markdown",
   "id": "06da2e2d",
   "metadata": {
    "heading_collapsed": true
   },
   "source": [
    "### Load Data from Pickle"
   ]
  },
  {
   "cell_type": "code",
   "execution_count": null,
   "id": "5a1516d5",
   "metadata": {
    "hidden": true
   },
   "outputs": [],
   "source": [
    "df1 = pd.read_pickle('page1_df')"
   ]
  },
  {
   "cell_type": "markdown",
   "id": "6cfbcc19",
   "metadata": {},
   "source": [
    "## Plotting Procedures"
   ]
  },
  {
   "cell_type": "code",
   "execution_count": null,
   "id": "078cb46e",
   "metadata": {},
   "outputs": [],
   "source": [
    "from IPython.display import display, Markdown, Latex\n",
    "\n",
    "def plot_no_maze(xs, ys, c):\n",
    "    plt.scatter(xs, ys, c=c, s=4)\n",
    "    plt.plot([6.5, 8.5, 8.5, 6.5, 6.5], [6.5, 6.5, 8.5, 8.5, 6.5],color='g') # The target\n",
    "    plt.rcParams[\"figure.figsize\"] = (6,6)\n",
    "    plt.xlim(-16, 16)\n",
    "    plt.ylim(-16, 16)\n",
    "    plt.show()\n",
    "\n",
    "def plot_no_maze_from_dict(tdict, attempt=None, userId=None, timestamp=None):\n",
    "    xs = tdict['xcor'].values()\n",
    "    ys = tdict['ycor'].values()\n",
    "    cs = tdict['color'].values()\n",
    "    plt.scatter(xs, ys, c=cs, s=4)\n",
    "    plt.plot([6.5, 8.5, 8.5, 6.5, 6.5], [6.5, 6.5, 8.5, 8.5, 6.5],color='g') # The target\n",
    "    plt.rcParams[\"figure.figsize\"] = (6,6)\n",
    "    plt.xlim(-16, 16)\n",
    "    plt.ylim(-16, 16)\n",
    "    if timestamp:\n",
    "        time = timestamp.tz_convert('America/Chicago').strftime(\"%H:%M:%S\")\n",
    "    plt.title(f'student {userId} attempt {attempt} at {time}')\n",
    "    plt.show()\n",
    "\n",
    "def plot_final_speed_and_distance_vs_attempt(sdf):\n",
    "    plt.rcParams[\"figure.figsize\"] = (6,6)\n",
    "    plt.plot(range(sdf.shape[0]), sdf.final_speed)\n",
    "    plt.title(f'{sdf.userId.iloc[0]} Final Speed vs Attempt')\n",
    "    plt.ylim(0, 1)\n",
    "    plt.show()\n",
    "    plt.plot(range(sdf.shape[0]), sdf.final_distance)\n",
    "    plt.ylim(0, sdf.final_distance.max())\n",
    "    plt.title(f\"{sdf.userId.iloc[0]} Final Distance From Target vs Attempt\")\n",
    "    plt.show()"
   ]
  },
  {
   "cell_type": "markdown",
   "id": "4c191581",
   "metadata": {},
   "source": []
  },
  {
   "cell_type": "markdown",
   "id": "fc2c7b2d",
   "metadata": {},
   "source": [
    "## Class-Level Data "
   ]
  },
  {
   "cell_type": "code",
   "execution_count": null,
   "id": "fd06592d",
   "metadata": {},
   "outputs": [],
   "source": [
    "# Number of attemps\n",
    "max_attempts = df1.groupby('userId').aggregate('count').timestamp.max()\n",
    "df1.groupby('userId').aggregate('count').timestamp.hist(bins=range(0, max_attempts, 5))\n",
    "plt.title(\"Attempts to Solve 1st Page Distribution\")\n",
    "plt.show()"
   ]
  },
  {
   "cell_type": "markdown",
   "id": "32adc0a0",
   "metadata": {},
   "source": [
    "## Individual Level Data"
   ]
  },
  {
   "cell_type": "code",
   "execution_count": null,
   "id": "8d3d6921",
   "metadata": {},
   "outputs": [],
   "source": [
    "dfs"
   ]
  },
  {
   "cell_type": "code",
   "execution_count": null,
   "id": "a1c8162c",
   "metadata": {
    "scrolled": true
   },
   "outputs": [],
   "source": [
    "\n",
    "for uid in [26825]:# df1.userId.unique():\n",
    "    dfs = df1[df1.userId == uid].sort_values(by='timestamp').reset_index()\n",
    "    display(Markdown(f'# student {uid}'))\n",
    "    display(Markdown(f'### Final Speed and Distance By Attempt'))\n",
    "    plot_final_speed_and_distance_vs_attempt(dfs)\n",
    "    display(Markdown(f'### Student {uid} Individual Attempts'))\n",
    "    dfs.apply(lambda row: plot_no_maze_from_dict(row.trajectory, attempt=row.name, userId=row.userId, timestamp=row.timestamp), axis=1)\n"
   ]
  },
  {
   "cell_type": "markdown",
   "id": "92bb751b",
   "metadata": {},
   "source": [
    "# Scratch"
   ]
  },
  {
   "cell_type": "code",
   "execution_count": null,
   "id": "dee5c5e1",
   "metadata": {},
   "outputs": [],
   "source": []
  }
 ],
 "metadata": {
  "kernelspec": {
   "display_name": "Python 3 (ipykernel)",
   "language": "python",
   "name": "python3"
  },
  "language_info": {
   "codemirror_mode": {
    "name": "ipython",
    "version": 3
   },
   "file_extension": ".py",
   "mimetype": "text/x-python",
   "name": "python",
   "nbconvert_exporter": "python",
   "pygments_lexer": "ipython3",
   "version": "3.10.11"
  }
 },
 "nbformat": 4,
 "nbformat_minor": 5
}
